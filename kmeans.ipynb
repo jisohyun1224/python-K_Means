{
 "cells": [
  {
   "cell_type": "code",
   "execution_count": null,
   "metadata": {},
   "outputs": [],
   "source": []
  },
  {
   "cell_type": "code",
   "execution_count": null,
   "metadata": {},
   "outputs": [],
   "source": []
  },
  {
   "cell_type": "code",
   "execution_count": 9,
   "metadata": {},
   "outputs": [],
   "source": [
    "f = open(\"weight-height.txt\", \"r\")\n",
    "lines = f.readlines()\n",
    "male=[]\n",
    "male_weight=[]\n",
    "male_height=[]\n",
    "female=[]\n",
    "female_weight=[]\n",
    "female_height=[]\n",
    "\n",
    "for x in range(1,5001):\n",
    "    male_list = lines[x].split()\n",
    "    male_weight.append(male_list[1])\n",
    "    male_height.append(male_list[2])\n",
    "    male.append([male_list[1],male_list[2]])\n",
    "\n",
    "    \n",
    "for x in range(5002,10001):\n",
    "    female_list = lines[x].split()\n",
    "    female_weight.append(female_list[1])\n",
    "    female_height.append(female_list[2])\n",
    "    female.append([female_list[1],female_list[2]])\n"
   ]
  },
  {
   "cell_type": "code",
   "execution_count": 20,
   "metadata": {},
   "outputs": [],
   "source": [
    "from sklearn.cluster import KMeans\n",
    "import matplotlib.pyplot  as plt\n",
    "import seaborn as sns\n",
    "\n",
    "\n",
    "model = KMeans(n_clusters=3,algorithm='auto')\n",
    "model.fit(male)\n",
    "predict = pd.DataFrame(model.predict(male))\n",
    "predict.columns=['predict']\n",
    "predict['gender']=\"male\"\n",
    "predict['weight'] = male_weight\n",
    "predict['height']=male_height\n",
    "\n",
    "predict.to_csv('male.csv', index=False)"
   ]
  },
  {
   "cell_type": "code",
   "execution_count": 19,
   "metadata": {},
   "outputs": [],
   "source": [
    "model = KMeans(n_clusters=3,algorithm='auto')\n",
    "model.fit(female)\n",
    "predict = pd.DataFrame(model.predict(female))\n",
    "predict.columns=['predict']\n",
    "predict['gender']=\"female\"\n",
    "predict['weight'] = female_weight\n",
    "predict['height']=female_height\n",
    "\n",
    "predict.to_csv('female.csv', index=False)"
   ]
  },
  {
   "cell_type": "code",
   "execution_count": null,
   "metadata": {},
   "outputs": [],
   "source": []
  },
  {
   "cell_type": "code",
   "execution_count": 5,
   "metadata": {},
   "outputs": [
    {
     "data": {
      "image/png": "[encoded data removed]",
      "text/plain": [
       "<Figure size 432x288 with 1 Axes>"
      ]
     },
     "metadata": {
      "needs_background": "light"
     },
     "output_type": "display_data"
    }
   ],
   "source": [
    "import numpy as np\n",
    "from sklearn.manifold import TSNE\n",
    "\n",
    "# 2개의 차원으로 축소\n",
    "transformed = TSNE(n_components=2).fit_transform(predict)\n",
    "transformed.shape\n",
    "\n",
    "xs = transformed[:,0]\n",
    "ys = transformed[:,1]\n",
    "plt.scatter(xs,ys)  #라벨은 색상으로 분류됨\n",
    "\n",
    "plt.show()"
   ]
  },
  {
   "cell_type": "code",
   "execution_count": null,
   "metadata": {},
   "outputs": [],
   "source": []
  }
 ],
 "metadata": {
  "kernelspec": {
   "display_name": "Python 3",
   "language": "python",
   "name": "python3"
  },
  "language_info": {
   "codemirror_mode": {
    "name": "ipython",
    "version": 3
   },
   "file_extension": ".py",
   "mimetype": "text/x-python",
   "name": "python",
   "nbconvert_exporter": "python",
   "pygments_lexer": "ipython3",
   "version": "3.7.4"
  }
 },
 "nbformat": 4,
 "nbformat_minor": 2
}
